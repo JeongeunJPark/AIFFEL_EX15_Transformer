{
 "cells": [
  {
   "cell_type": "markdown",
   "metadata": {},
   "source": [
    "## 이 노드의 루브릭          \n",
    "\n",
    "1. 한국어 전처리를 통해 학습 데이터셋을 구축하였다.  \n",
    "2. 트랜스포머 모델을 구현하여 한국어 챗봇 모델 학습을 정상적으로 진행하였다.         \n",
    "3. 한국어 입력 문장에 대해 한국어로 답변하는 함수를 구현하였다.         \n",
    "\n",
    "> __상세기준__ \n",
    "> 1. 공백과 특수문자 처리, 토크나이징, 병렬데이터 구축의 과정이 적절히 진행되었다.       \n",
    "> 2. 구현한 트랜스포머 모델이 한국어 병렬 데이터 학습 시 안정적으로 수렴하였다.         \n",
    "> 3. 한국어 입력 문장에 그럴듯한 한국어로 답변을 리턴하였다.       "
   ]
  },
  {
   "cell_type": "markdown",
   "metadata": {},
   "source": [
    "### 목차        \n",
    "\n",
    "#### 1. 데이터 수집하기        \n",
    "#### 2. 데이터 전처리하기           \n",
    "#### 3. 모델 구성하기         \n",
    "#### 4. 모델 평가하기        "
   ]
  },
  {
   "cell_type": "markdown",
   "metadata": {},
   "source": [
    "## 1. 데이터 수집하기            \n",
    "\n",
    "\n",
    "### 1) 한국어 챗봇을 만들기 위한 라이브러리 임포트"
   ]
  },
  {
   "cell_type": "code",
   "execution_count": 137,
   "metadata": {},
   "outputs": [
    {
     "name": "stdout",
     "output_type": "stream",
     "text": [
      "필요한 라이브러리 임포트\n"
     ]
    }
   ],
   "source": [
    "#라이브러리 임포트\n",
    "import tensorflow as tf\n",
    "import tensorflow_datasets as tfds\n",
    "\n",
    "import os\n",
    "import re\n",
    "\n",
    "import numpy as np\n",
    "import matplotlib.pyplot as plt\n",
    "\n",
    "print('필요한 라이브러리 임포트')"
   ]
  },
  {
   "cell_type": "markdown",
   "metadata": {},
   "source": [
    "### 2) 한국어 챗봇 데이터를 불러오기"
   ]
  },
  {
   "cell_type": "code",
   "execution_count": 138,
   "metadata": {},
   "outputs": [
    {
     "name": "stdout",
     "output_type": "stream",
     "text": [
      "오늘 사용할 데이터 패스 :  /home/ssac23/SUBMIT_MISSION_GIT/ex15_Transformer/kr_data/chatbot.csv\n"
     ]
    }
   ],
   "source": [
    "krdata_path = os.getenv('HOME') + '/SUBMIT_MISSION_GIT/ex15_Transformer/kr_data/chatbot.csv'\n",
    "\n",
    "print('오늘 사용할 데이터 패스 : ', krdata_path)"
   ]
  },
  {
   "cell_type": "code",
   "execution_count": 139,
   "metadata": {},
   "outputs": [
    {
     "data": {
      "text/html": [
       "<div>\n",
       "<style scoped>\n",
       "    .dataframe tbody tr th:only-of-type {\n",
       "        vertical-align: middle;\n",
       "    }\n",
       "\n",
       "    .dataframe tbody tr th {\n",
       "        vertical-align: top;\n",
       "    }\n",
       "\n",
       "    .dataframe thead th {\n",
       "        text-align: right;\n",
       "    }\n",
       "</style>\n",
       "<table border=\"1\" class=\"dataframe\">\n",
       "  <thead>\n",
       "    <tr style=\"text-align: right;\">\n",
       "      <th></th>\n",
       "      <th>Q</th>\n",
       "      <th>A</th>\n",
       "      <th>label</th>\n",
       "    </tr>\n",
       "  </thead>\n",
       "  <tbody>\n",
       "    <tr>\n",
       "      <th>0</th>\n",
       "      <td>12시 땡!</td>\n",
       "      <td>하루가 또 가네요.</td>\n",
       "      <td>0</td>\n",
       "    </tr>\n",
       "    <tr>\n",
       "      <th>1</th>\n",
       "      <td>1지망 학교 떨어졌어</td>\n",
       "      <td>위로해 드립니다.</td>\n",
       "      <td>0</td>\n",
       "    </tr>\n",
       "    <tr>\n",
       "      <th>2</th>\n",
       "      <td>3박4일 놀러가고 싶다</td>\n",
       "      <td>여행은 언제나 좋죠.</td>\n",
       "      <td>0</td>\n",
       "    </tr>\n",
       "    <tr>\n",
       "      <th>3</th>\n",
       "      <td>3박4일 정도 놀러가고 싶다</td>\n",
       "      <td>여행은 언제나 좋죠.</td>\n",
       "      <td>0</td>\n",
       "    </tr>\n",
       "    <tr>\n",
       "      <th>4</th>\n",
       "      <td>PPL 심하네</td>\n",
       "      <td>눈살이 찌푸려지죠.</td>\n",
       "      <td>0</td>\n",
       "    </tr>\n",
       "  </tbody>\n",
       "</table>\n",
       "</div>"
      ],
      "text/plain": [
       "                 Q            A  label\n",
       "0           12시 땡!   하루가 또 가네요.      0\n",
       "1      1지망 학교 떨어졌어    위로해 드립니다.      0\n",
       "2     3박4일 놀러가고 싶다  여행은 언제나 좋죠.      0\n",
       "3  3박4일 정도 놀러가고 싶다  여행은 언제나 좋죠.      0\n",
       "4          PPL 심하네   눈살이 찌푸려지죠.      0"
      ]
     },
     "execution_count": 139,
     "metadata": {},
     "output_type": "execute_result"
    }
   ],
   "source": [
    "import pandas as pd\n",
    "\n",
    "kr_data = pd.read_csv(krdata_path)\n",
    "\n",
    "kr_data.head(5)"
   ]
  },
  {
   "cell_type": "code",
   "execution_count": 140,
   "metadata": {},
   "outputs": [
    {
     "name": "stdout",
     "output_type": "stream",
     "text": [
      "qestion 데이터 타입 <class 'list'>\n",
      "데이터 길이 :  11823\n",
      "예시데이터 :  SD카드 망가졌어\n"
     ]
    }
   ],
   "source": [
    "question = np.array(kr_data['Q'].tolist())\n",
    "question = question.tolist()\n",
    "print('qestion 데이터 타입', type(question))\n",
    "print('데이터 길이 : ' , len(question))\n",
    "print('예시데이터 : ', question[5])"
   ]
  },
  {
   "cell_type": "code",
   "execution_count": 141,
   "metadata": {},
   "outputs": [
    {
     "name": "stdout",
     "output_type": "stream",
     "text": [
      "qestion 데이터 타입 <class 'list'>\n",
      "데이터 길이 :  11823\n",
      "예시데이터 :  다시 새로 사는 게 마음 편해요.\n"
     ]
    }
   ],
   "source": [
    "answer = np.array(kr_data['A'].tolist())\n",
    "answer = answer.tolist()\n",
    "print('qestion 데이터 타입', type(answer))\n",
    "print('데이터 길이 : ' , len(answer))\n",
    "print('예시데이터 : ', answer[5])"
   ]
  },
  {
   "cell_type": "markdown",
   "metadata": {},
   "source": [
    "> - 한국어 챗봇 생성에 쓰일 Q(질문)데이터와 A(답변)데이터를 변수에 저장하였다.     \n",
    "> - Q, A의 길이는 둘 다 11,823으로 동일하다."
   ]
  },
  {
   "cell_type": "markdown",
   "metadata": {},
   "source": [
    "##  3. 한국어 챗봇 데이터 전처리                 \n",
    "\n",
    "\n",
    "###  -1. 토큰화 하기 전, 문장부호를 제거한 데이터 만들기 "
   ]
  },
  {
   "cell_type": "markdown",
   "metadata": {},
   "source": [
    "### -2. 단어장(Vocabulary) 만들기            \n",
    "\n",
    "- 노드의 요건으로 SubwordTextEncoder 사용이 있었기 때문에 실습에서 사용한 토크나이저를 그대로 활용한다."
   ]
  },
  {
   "cell_type": "code",
   "execution_count": 142,
   "metadata": {},
   "outputs": [
    {
     "name": "stdout",
     "output_type": "stream",
     "text": [
      "2.2.0\n",
      "토큰화 완료\n"
     ]
    }
   ],
   "source": [
    "#시작하기 전 tensorflow 버전 확인\n",
    "print(tf.__version__)\n",
    "\n",
    "tokenizer = tfds.deprecated.text.SubwordTextEncoder.build_from_corpus(question+answer, target_vocab_size = 2**13)\n",
    "print('토큰화 완료')"
   ]
  },
  {
   "cell_type": "code",
   "execution_count": 143,
   "metadata": {},
   "outputs": [
    {
     "name": "stdout",
     "output_type": "stream",
     "text": [
      "시작 및 종료 토큰 생성\n",
      "시작 토큰 번호 :  [8170]\n",
      "종료 토큰 번호 :  [8171]\n"
     ]
    }
   ],
   "source": [
    "#시작 토큰과 종료 토큰을 부여한다.\n",
    "START_TOKEN, END_TOKEN = [tokenizer.vocab_size],[tokenizer.vocab_size+1]\n",
    "\n",
    "print('시작 및 종료 토큰 생성')\n",
    "print('시작 토큰 번호 : ' , [tokenizer.vocab_size])\n",
    "print('종료 토큰 번호 : ', [tokenizer.vocab_size+1])"
   ]
  },
  {
   "cell_type": "code",
   "execution_count": 144,
   "metadata": {},
   "outputs": [
    {
     "name": "stdout",
     "output_type": "stream",
     "text": [
      "총 단어장의 수 :  8172\n"
     ]
    }
   ],
   "source": [
    "#시작과 종료 토큰을 생성해 붙인 만큼, 단어장 크기를 확장해준다.\n",
    "VOCAB_SIZE = tokenizer.vocab_size+2\n",
    "print('총 단어장의 수 : ', VOCAB_SIZE)"
   ]
  },
  {
   "cell_type": "markdown",
   "metadata": {},
   "source": [
    "### -3. 각 단어를 고유한 정수로 인코딩 및 패딩            \n",
    "\n",
    "- tensorflow에서 제공하는 dataset 라이브러리를 활용하여 토큰화했기 때문에, \n",
    "- tokenizer.encode()와 tokenizer.decode()를 활용할 수 있다."
   ]
  },
  {
   "cell_type": "code",
   "execution_count": 145,
   "metadata": {},
   "outputs": [
    {
     "name": "stdout",
     "output_type": "stream",
     "text": [
      "토크나이저 처리 한 샘플 :  개좋아\n",
      "이 샘플을 인코딩하면? :  [646, 136]\n"
     ]
    }
   ],
   "source": [
    "#임의의 단어 토큰을 정수로 변환하여 확인\n",
    "\n",
    "print('토크나이저 처리 한 샘플 : ' , question[94])\n",
    "print('이 샘플을 인코딩하면? : ', tokenizer.encode(question[94]))"
   ]
  },
  {
   "cell_type": "markdown",
   "metadata": {},
   "source": [
    "> - 하필이면 골라도 이런 샘플을 고르다니?      \n",
    "> - 어쨌든 접두사(..) '개' 와 + '좋아' 는 각각 646, 136 번으로 인코딩되었음을 확인할 수 있다.        \n",
    "\n",
    "\n",
    "__이제 모든 단어들의 최대 길이를 정하여 공식적으로 패딩/인코딩해보자.__     "
   ]
  },
  {
   "cell_type": "code",
   "execution_count": 146,
   "metadata": {},
   "outputs": [
    {
     "name": "stdout",
     "output_type": "stream",
     "text": [
      "분할 예시라고!:  ['나는', '왜', '이렇게', '태어났을까?']\n",
      "10258 번째에서 가장 긴 길이가 나왔다. 길이는 : 21\n"
     ]
    }
   ],
   "source": [
    "#단어의 최장 길이를 찾아서 지정\n",
    "#최장 길이를 찾기 위해 다음과 같이 작업해본다.\n",
    "\n",
    "#띄어쓰기 기준으로 question을 분할해 줄 리스트 선언\n",
    "question_length = []\n",
    "answer_length = []\n",
    "\n",
    "for q in question:\n",
    "    question_length.append(q.split())\n",
    "\n",
    "for a in answer:\n",
    "    answer_length.append(a.split())\n",
    "    \n",
    "#분할하면 이런 결과가 나온다.\n",
    "#또 골라도 이런걸 고른다\n",
    "print('분할 예시라고!: ',question_length[588])\n",
    "\n",
    "#이 분할된 길이를 정수로 저장할 리스트 선언\n",
    "count = []\n",
    "count_a = []\n",
    "\n",
    "#다 돌며 저장한 후,\n",
    "for i in question_length:\n",
    "    count.append(len(i))\n",
    "\n",
    "for i in answer_length:\n",
    "    count_a.append(len(i))\n",
    "    \n",
    "#제일 긴 길이를 찾아본다.\n",
    "max_count = 0\n",
    "index = 0\n",
    "\n",
    "for i,l in enumerate(count):\n",
    "    if l > max_count:\n",
    "        max_count = l\n",
    "        index = i\n",
    "\n",
    "for i,l in enumerate(count_a):\n",
    "    if l > max_count:\n",
    "        max_count = l\n",
    "        index = i\n",
    "    \n",
    "#제일 긴 길이는 이렇다.\n",
    "print(index , '번째에서 가장 긴 길이가 나왔다. 길이는 :' ,max_count)"
   ]
  },
  {
   "cell_type": "markdown",
   "metadata": {},
   "source": [
    "> - 띄어쓰기 기준, 가장 긴 문장은 answer에서 나왔고, '단어가 21'개였다.     \n",
    "> - 이걸 tokenizer.encode() 했을 때의 길이를 기준으로 MAX_LENGTH를 정해준다."
   ]
  },
  {
   "cell_type": "code",
   "execution_count": 147,
   "metadata": {},
   "outputs": [
    {
     "name": "stdout",
     "output_type": "stream",
     "text": [
      "28\n"
     ]
    }
   ],
   "source": [
    "print(len(tokenizer.encode(answer[10258])))"
   ]
  },
  {
   "cell_type": "code",
   "execution_count": 239,
   "metadata": {},
   "outputs": [],
   "source": [
    "#패딩이 많이 들어가면 결과가 별로 안 좋을 것 같다.\n",
    "#최대 길이는 28이지만, 적당히 자른 15로 정한다.\n",
    "MAX_LENGTH = 28"
   ]
  },
  {
   "cell_type": "code",
   "execution_count": 228,
   "metadata": {},
   "outputs": [],
   "source": [
    "#패딩 및 최대 길이를  추가\n",
    "#적용하는 함수 설정\n",
    "def tokenize_and_filter(inputs, outputs):\n",
    "    tokenized_inputs, tokenized_outputs = [], []\n",
    "    \n",
    "    for (sentence1, sentence2) in zip(inputs, outputs):        \n",
    "        #정수 인코딩을 진행하며 시작, 종료 토큰을 추가 \n",
    "        sentence1 = START_TOKEN + tokenizer.encode(sentence1) + END_TOKEN\n",
    "        sentence2 = START_TOKEN + tokenizer.encode(sentence2) + END_TOKEN\n",
    "        \n",
    "        #최대 길이보다 작을 때문 append해줌\n",
    "        if len(sentence1) <= MAX_LENGTH and len(sentence2) <= MAX_LENGTH:\n",
    "            tokenized_inputs.append(sentence1)\n",
    "            tokenized_outputs.append(sentence2)\n",
    "            \n",
    "    #정해둔 최대 길이로 패딩\n",
    "    #포스트 패딩 적용\n",
    "    tokenized_inputs = tf.keras.preprocessing.sequence.pad_sequences(\n",
    "    tokenized_inputs, maxlen=MAX_LENGTH, padding='post')\n",
    "    \n",
    "    tokenized_outputs = tf.keras.preprocessing.sequence.pad_sequences(\n",
    "    tokenized_outputs, maxlen=MAX_LENGTH, padding='post')\n",
    "    \n",
    "    return tokenized_inputs, tokenized_outputs"
   ]
  },
  {
   "cell_type": "code",
   "execution_count": 235,
   "metadata": {},
   "outputs": [
    {
     "name": "stdout",
     "output_type": "stream",
     "text": [
      "단어장 크기 :  8172\n",
      "전처리 하기 전의 크기는?  11823 11823\n",
      "처리 후의 퀘스쳔 크기:9099\n",
      "처리 후의 앤서 크기:9099\n"
     ]
    }
   ],
   "source": [
    "#토큰화 및 필터링 수행\n",
    "#혹시 모르니 따로 저장\n",
    "questions, answers = [], []\n",
    "questions, answers = tokenize_and_filter(question, answer)\n",
    "\n",
    "print('단어장 크기 : ', VOCAB_SIZE)\n",
    "print('전처리 하기 전의 크기는? ', len(question), len(answer))\n",
    "print('처리 후의 퀘스쳔 크기:{}'.format(len(questions)))\n",
    "print('처리 후의 앤서 크기:{}'.format(len(answers)))"
   ]
  },
  {
   "cell_type": "markdown",
   "metadata": {},
   "source": [
    "> - MAX_LENGTH에 의해 몇 개의 샘플이 제외되면서, 샘플 크기가 11,823개에서 11,817개로 줄었음을 알 수 있다."
   ]
  },
  {
   "cell_type": "markdown",
   "metadata": {},
   "source": [
    "### -4. 교사 강요(Teacher Forcing) 사용하기             \n",
    "\n",
    "- 질문/답변의 쌍을 tf.data.Dataset의 입력으로 넣어주는 작업"
   ]
  },
  {
   "cell_type": "code",
   "execution_count": 230,
   "metadata": {},
   "outputs": [
    {
     "name": "stdout",
     "output_type": "stream",
     "text": [
      "내가 이상한 건가?\n",
      "자신의 독특함을 믿으세요.\n",
      "세팅 완료!\n"
     ]
    }
   ],
   "source": [
    "#일단, 기본적인 모든 세팅을 노드 실습과 동일하게 적용한다.\n",
    "BATCH_SIZE = 64\n",
    "BUFFER_SIZE = 20000\n",
    "\n",
    "print(question[855])\n",
    "print(answer[855])\n",
    "\n",
    "dataset = tf.data.Dataset.from_tensor_slices((\n",
    "    {\n",
    "    'inputs':questions,\n",
    "    'dec_inputs':answers[:,:-1]\n",
    "    },\n",
    "    {\n",
    "    'outputs':answers[:, 1:]\n",
    "    },\n",
    "))\n",
    "\n",
    "dataset = dataset.cache()\n",
    "dataset = dataset.shuffle(BUFFER_SIZE)\n",
    "dataset = dataset.batch(BATCH_SIZE)\n",
    "dataset = dataset.prefetch(tf.data.experimental.AUTOTUNE)\n",
    "\n",
    "print('세팅 완료!')"
   ]
  },
  {
   "cell_type": "markdown",
   "metadata": {},
   "source": [
    "## 3. 모델 정의"
   ]
  },
  {
   "cell_type": "markdown",
   "metadata": {},
   "source": [
    "### -1. 트랜스포머 모델을 정의하기 위한 레이어 설계       \n",
    "\n",
    "- 인코더 층 설계에 필요한 '포지셔널 인코딩'      \n",
    "- 인코더 층 설계(및 인코더-디코더 층 설계)에 필요한 '스케일드 닷 프로덕트 어텐션'    \n",
    "- '멀티 헤드 어텐션'\n",
    "\n",
    "등의 함수를 바탕으로, \n",
    "\n",
    "> - 2개의 서브 층으로 이루어진 인코더 층 생성\n",
    "> - 인코더 층 :(셀프어텐션(멀티헤드어텐선), 피드포워드 신경망의 2층 레이어)     \n",
    "> - 3개의 서브 층으로 이루어진 디코더 층 생성\n",
    "> - 디코더 층 :(셀프어텐션(멀티헤드어텐션), 인코더-디코더 어텐션, 피드포워드 신경망의 3층 레이어)       \n",
    "\n",
    "을 구성해본다."
   ]
  },
  {
   "cell_type": "markdown",
   "metadata": {},
   "source": [
    "##### 기본 레이어 세팅을 위한 함수 정의"
   ]
  },
  {
   "cell_type": "code",
   "execution_count": 152,
   "metadata": {},
   "outputs": [
    {
     "name": "stdout",
     "output_type": "stream",
     "text": [
      "포지셔널 인코딩 세팅 완료\n"
     ]
    }
   ],
   "source": [
    "# 포지셔널 인코딩 \n",
    "class PositionalEncoding(tf.keras.layers.Layer):\n",
    "    #이니셜 세팅\n",
    "    def __init__(self, position, d_model):\n",
    "        super(PositionalEncoding, self).__init__()\n",
    "        self.pos_encoding = self.positional_encoding(position, d_model)\n",
    "    \n",
    "    #앵글 얻기 \n",
    "    def get_angles(self, position, i, d_model):\n",
    "        angles = 1/tf.pow(10000, (2*(i//2)) / tf.cast(d_model, tf.float32))\n",
    "        \n",
    "        #포지션에 따라 앵글을 얻을 수 있도록 return\n",
    "        return position * angles\n",
    "    \n",
    "    def positional_encoding(self, position, d_model):\n",
    "        angle_rads = self.get_angles(\n",
    "        position=tf.range(position, dtype=tf.float32)[:, tf.newaxis],\n",
    "        i=tf.range(d_model, dtype=tf.float32)[tf.newaxis, :],\n",
    "        d_model=d_model)\n",
    "        \n",
    "        #배열 짝수 인덱스에는 sin 함수 적용\n",
    "        sines = tf.math.sin(angle_rads[:, 0::2])\n",
    "        \n",
    "        #배열 홀수 인덱스에는 cos 함수 적용\n",
    "        cosines = tf.math.cos(angle_rads[:, 1::2])\n",
    "        \n",
    "        pos_encoding = tf.concat([sines, cosines], axis=-1)\n",
    "        pos_encoding = pos_encoding[tf.newaxis, ...]\n",
    "        return tf.cast(pos_encoding, tf.float32)\n",
    "    \n",
    "    def call(self, inputs):\n",
    "        return inputs + self.pos_encoding[:, :tf.shape(inputs)[1], :]\n",
    "    \n",
    "print('포지셔널 인코딩 세팅 완료')"
   ]
  },
  {
   "cell_type": "code",
   "execution_count": 174,
   "metadata": {},
   "outputs": [
    {
     "name": "stdout",
     "output_type": "stream",
     "text": [
      "스케일드 닷 프로덕션 세팅\n"
     ]
    }
   ],
   "source": [
    "## 스케일드 닷 프로덕트 어텐션\n",
    "def scaled_dot_product_attention(query, key, value, mask):\n",
    "    \n",
    "    #어텐션 가중치를 계산\n",
    "    matmul_qk = tf.matmul(query, key, transpose_b=True)\n",
    "    \n",
    "    #scale matmul_qk\n",
    "    depth = tf.cast(tf.shape(key)[-1], tf.float32)\n",
    "    logits = matmul_qk / tf.math.sqrt(depth)\n",
    "    \n",
    "    #add the mask to zero out padding tokens\n",
    "    if mask is not None:\n",
    "        logits += (mask * -1e9)\n",
    "        \n",
    "    #소프트맥스 \n",
    "    attention_weights = tf.nn.softmax(logits, axis=-1)\n",
    "    \n",
    "    output = tf.matmul(attention_weights, value)\n",
    "    \n",
    "    return output\n",
    "\n",
    "print('스케일드 닷 프로덕션 세팅')"
   ]
  },
  {
   "cell_type": "code",
   "execution_count": 155,
   "metadata": {},
   "outputs": [
    {
     "name": "stdout",
     "output_type": "stream",
     "text": [
      "멀티 헤드 어텐션 세팅 완료\n"
     ]
    }
   ],
   "source": [
    "class MultiHeadAttention(tf.keras.layers.Layer):\n",
    "    \n",
    "    def __init__(self, d_model, num_heads, name=\"multi_head_attention\"):\n",
    "        \n",
    "        super(MultiHeadAttention, self).__init__(name=name)\n",
    "        self.num_heads = num_heads\n",
    "        self.d_model = d_model\n",
    "        \n",
    "        assert (d_model % self.num_heads == 0)\n",
    "        \n",
    "        #d_model을 num_heads의 길이로 나누어 줌(병렬 연산을 위한 길이 세팅)\n",
    "        self.depth = d_model // self.num_heads\n",
    "        self.query_dense = tf.keras.layers.Dense(units=d_model)\n",
    "        self.key_dense = tf.keras.layers.Dense(units=d_model)\n",
    "        self.value_dense = tf.keras.layers.Dense(units=d_model)\n",
    "        \n",
    "        self.dense = tf.keras.layers.Dense(units=d_model)\n",
    "        \n",
    "    def split_heads(self, inputs, batch_size):\n",
    "        #인풋 사이즈 정리\n",
    "        inputs = tf.reshape(inputs, shape=(batch_size, -1, self.num_heads, self.depth))\n",
    "        return tf.transpose(inputs, perm=[0,2,1,3])\n",
    "    \n",
    "    def call(self, inputs):\n",
    "        #매칭\n",
    "        query = inputs['query']\n",
    "        key = inputs['key']\n",
    "        value = inputs['value']\n",
    "        mask = inputs['mask']\n",
    "        batch_size = tf.shape(query)[0]\n",
    "        \n",
    "        #linear layers\n",
    "        query = self.query_dense(query)\n",
    "        key = self.key_dense(key)\n",
    "        value = self.value_dense(value)\n",
    "        \n",
    "        #병렬 연산을 위한 헤드\n",
    "        query = self.split_heads(query, batch_size)\n",
    "        key = self.split_heads(key, batch_size)\n",
    "        value = self.split_heads(value, batch_size)\n",
    "        \n",
    "        scaled_attention = scaled_dot_product_attention(query, key, value, mask)\n",
    "        scaled_attentiono = tf.transpose(scaled_attention, perm=[0,2,1,3])\n",
    "        \n",
    "        #어텐션 후의 결과를 다시 합쳐서 reshape\n",
    "        concat_attention = tf.reshape(scaled_attention, (batch_size, -1, self.d_model))\n",
    "        \n",
    "        #마지막 리니어 레이어\n",
    "        outputs = self.dense(concat_attention)\n",
    "        \n",
    "        return outputs\n",
    "    \n",
    "    print('멀티 헤드 어텐션 세팅 완료')"
   ]
  },
  {
   "cell_type": "code",
   "execution_count": 156,
   "metadata": {},
   "outputs": [
    {
     "name": "stdout",
     "output_type": "stream",
     "text": [
      "패딩 마스크 적용\n"
     ]
    }
   ],
   "source": [
    "def create_padding_mask(x):\n",
    "    mask = tf.cast(tf.math.equal(x, 0), tf.float32)\n",
    "    \n",
    "    # batch_size, 1, 1, sequence length\n",
    "    return mask[:, tf.newaxis, tf.newaxis, :]\n",
    "\n",
    "print('패딩 마스크 적용')"
   ]
  },
  {
   "cell_type": "code",
   "execution_count": 157,
   "metadata": {},
   "outputs": [
    {
     "name": "stdout",
     "output_type": "stream",
     "text": [
      "룩어헤드마스크 세팅\n"
     ]
    }
   ],
   "source": [
    "def create_look_ahead_mask(x):\n",
    "    seq_len = tf.shape(x)[1]\n",
    "    look_ahead_mask = 1 - tf.linalg.band_part(tf.ones((seq_len, seq_len)), -1, 0)\n",
    "    \n",
    "    # 0 패딩 마스크도 함께 호출하여 가려야 함.\n",
    "    padding_mask = create_padding_mask(x)\n",
    "    \n",
    "    return tf.maximum(look_ahead_mask, padding_mask)\n",
    "\n",
    "print('룩어헤드마스크 세팅')"
   ]
  },
  {
   "cell_type": "markdown",
   "metadata": {},
   "source": [
    "### -2. 인코더 층 만들기"
   ]
  },
  {
   "cell_type": "code",
   "execution_count": 158,
   "metadata": {},
   "outputs": [
    {
     "name": "stdout",
     "output_type": "stream",
     "text": [
      "인코더 레이어 세팅 완료\n"
     ]
    }
   ],
   "source": [
    "def encoder_layer(units, d_model, num_heads, dropout, name=\"encoder_layer\"):\n",
    "    \n",
    "    #인풋, 패딩 마스크\n",
    "    inputs = tf.keras.Input(shape=(None, d_model), name = \"inputs\")\n",
    "    padding_mask = tf.keras.Input(shape=(1,1,None), name = \"padding_mask\")\n",
    "    \n",
    "    #첫번째 서브 레이어\n",
    "    attention = MultiHeadAttention(d_model, num_heads, name=\"attention\")({\n",
    "        'query' : inputs,\n",
    "        'key': inputs,\n",
    "        'value' : inputs,\n",
    "        'mask' : padding_mask\n",
    "    })\n",
    "    \n",
    "    #멀티헤드 어텐션 이후 드롭아웃, 노말라이제이션을 거침\n",
    "    attention = tf.keras.layers.Dropout(rate=dropout)(attention)\n",
    "    attention = tf.keras.layers.LayerNormalization(epsilon=1e-6)(inputs+attention)\n",
    "    \n",
    "    #두번째 서브 레이어\n",
    "    outputs = tf.keras.layers.Dense(units=units, activation='relu')(attention)\n",
    "    outputs = tf.keras.layers.Dense(units=d_model)(outputs)\n",
    "    \n",
    "    #결과를 드롭아웃, 노말라이제이션\n",
    "    outputs = tf.keras.layers.Dropout(rate=dropout)(outputs)\n",
    "    outputs = tf.keras.layers.LayerNormalization(epsilon=1e-6)(attention+outputs)\n",
    "    \n",
    "    return tf.keras.Model(inputs=[inputs, padding_mask], outputs=outputs, name=name)\n",
    "\n",
    "print('인코더 레이어 세팅 완료')"
   ]
  },
  {
   "cell_type": "code",
   "execution_count": 159,
   "metadata": {},
   "outputs": [
    {
     "name": "stdout",
     "output_type": "stream",
     "text": [
      "인코더 세팅 완료\n"
     ]
    }
   ],
   "source": [
    "def encoder(vocab_size, num_layers, units, d_model, num_heads, dropout, name=\"encoder\"):\n",
    "    inputs = tf.keras.Input(shape=(None, ), name=\"inputs\")\n",
    "    \n",
    "    #패딩마스크\n",
    "    padding_mask = tf.keras.Input(shape=(1,1,None), name=\"padding_mask\")\n",
    "    \n",
    "    #임베딩레이어\n",
    "    embeddings = tf.keras.layers.Embedding(vocab_size, d_model)(inputs)\n",
    "    embeddings *= tf.math.sqrt(tf.cast(d_model, tf.float32))\n",
    "    \n",
    "    #포지셔널 인코딩\n",
    "    embeddings = PositionalEncoding(vocab_size, d_model)(embeddings)\n",
    "    \n",
    "    outputs = tf.keras.layers.Dropout(rate=dropout)(embeddings)\n",
    "    \n",
    "    #num_layers만큼 쌓아올린 인코더 층\n",
    "    for i in range(num_layers):\n",
    "        outputs = encoder_layer(\n",
    "        units=units,\n",
    "        d_model=d_model,\n",
    "        num_heads=num_heads,\n",
    "        dropout=dropout,\n",
    "        name=\"encoder_layer_{}\".format(i),\n",
    "        )([outputs, padding_mask])\n",
    "        \n",
    "        return tf.keras.Model(inputs=[inputs, padding_mask], outputs=outputs, name=name)\n",
    "    \n",
    "print('인코더 세팅 완료')"
   ]
  },
  {
   "cell_type": "markdown",
   "metadata": {},
   "source": [
    "### -3. 디코더 세팅"
   ]
  },
  {
   "cell_type": "code",
   "execution_count": 179,
   "metadata": {},
   "outputs": [
    {
     "name": "stdout",
     "output_type": "stream",
     "text": [
      "디코더 층 세팅 완료\n"
     ]
    }
   ],
   "source": [
    "def decoder_layer(units, d_model, num_heads, dropout, name=\"decoder_layer\"):\n",
    "    #인풋 연결\n",
    "    inputs = tf.keras.Input(shape=(None, d_model), name=\"inputs\")\n",
    "    encoder_outputs = tf.keras.Input(shape=(None, d_model), name=\"encoder_outputs\")\n",
    "    \n",
    "    look_ahead_mask = tf.keras.Input(shape=(1,None,None), name=\"look_ahead_mask\")\n",
    "    padding_mask = tf.keras.Input(shape=(1,1,None), name=\"padding_mask\")\n",
    "    \n",
    "    #첫번째 서브 레이어:멀티 헤드 어텐션 수행\n",
    "    attention1 = MultiHeadAttention(\n",
    "    d_model, num_heads, name=\"attention_1\")(inputs={\n",
    "        'query':inputs,\n",
    "        'key':inputs,\n",
    "        'value':inputs,\n",
    "        'mask':look_ahead_mask\n",
    "    })\n",
    "    \n",
    "    #결과를 노말라이제이션\n",
    "    attention1 = tf.keras.layers.LayerNormalization(epsilon=1e-6)(attention1+inputs)\n",
    "    \n",
    "    #두 번째 서브레이어 : 마스크드 멀티 헤드 어텐션 (인코더-디코더)\n",
    "    attention2 = MultiHeadAttention(\n",
    "    d_model, num_heads, name=\"attention_2\")(inputs={\n",
    "        'query':attention1,\n",
    "        'key':encoder_outputs,\n",
    "        'value':encoder_outputs,\n",
    "        'mask':padding_mask\n",
    "    })\n",
    "    \n",
    "    #결과를 드롭아웃, 노말라이제이션\n",
    "    attention2 = tf.keras.layers.Dropout(rate=dropout)(attention2)\n",
    "    attention2 = tf.keras.layers.LayerNormalization(epsilon=1e-6)(attention2+attention1)\n",
    "    \n",
    "    #세 번째 서브레이어 : 2개의 완전연결층\n",
    "    outputs = tf.keras.layers.Dense(units=units, activation='relu')(attention2)\n",
    "    outputs = tf.keras.layers.Dense(units=d_model)(outputs)\n",
    "    \n",
    "    #완전연결층 결과도...!\n",
    "    outputs = tf.keras.layers.Dropout(rate=dropout)(outputs)\n",
    "    outputs = tf.keras.layers.LayerNormalization(epsilon=1e-6)(outputs+attention2)\n",
    "    \n",
    "    return tf.keras.Model(inputs=[inputs, encoder_outputs, look_ahead_mask, padding_mask],\n",
    "                         outputs=outputs, name=name)\n",
    "\n",
    "print('디코더 층 세팅 완료')"
   ]
  },
  {
   "cell_type": "code",
   "execution_count": 180,
   "metadata": {},
   "outputs": [
    {
     "name": "stdout",
     "output_type": "stream",
     "text": [
      "디코더 세팅 완료\n"
     ]
    }
   ],
   "source": [
    "def decoder(vocab_size, num_layers, units, d_model, num_heads, dropout, name='decoder'):\n",
    "        inputs = tf.keras.Input(shape=(None,), name='inputs')\n",
    "        encoder_outputs = tf.keras.Input(shape=(None, d_model), name='encoder_outputs')\n",
    "        look_ahead_mask = tf.keras.Input(shape=(1,None,None), name='look_ahead_mask')\n",
    "        \n",
    "        #패딩마스크\n",
    "        padding_mask = tf.keras.Input(shape=(1,1,None), name='padding_mask')\n",
    "        \n",
    "        #임베딩 레이어\n",
    "        embeddings = tf.keras.layers.Embedding(vocab_size, d_model)(inputs)\n",
    "        embeddings *= tf.math.sqrt(tf.cast(d_model, tf.float32))\n",
    "        \n",
    "        #포지셔널 인코딩\n",
    "        embeddings = PositionalEncoding(vocab_size, d_model)(embeddings)\n",
    "        \n",
    "        #드롭아웃\n",
    "        outputs = tf.keras.layers.Dropout(rate=dropout)(embeddings)\n",
    "        \n",
    "        for i in range(num_layers):\n",
    "            outputs = decoder_layer(\n",
    "                units=units,\n",
    "                d_model=d_model,\n",
    "                num_heads=num_heads,\n",
    "                dropout=dropout,\n",
    "                name='decoder_layer_{}'.format(i),\n",
    "            )(inputs=[outputs, encoder_outputs, look_ahead_mask, padding_mask])\n",
    "            \n",
    "        return tf.keras.Model(\n",
    "        inputs=[inputs, encoder_outputs, look_ahead_mask, padding_mask],\n",
    "        outputs=outputs,\n",
    "        name=name)\n",
    "    \n",
    "print('디코더 세팅 완료')"
   ]
  },
  {
   "cell_type": "markdown",
   "metadata": {},
   "source": [
    "## -4. 트랜스포머 모델 정의"
   ]
  },
  {
   "cell_type": "code",
   "execution_count": 186,
   "metadata": {},
   "outputs": [
    {
     "name": "stdout",
     "output_type": "stream",
     "text": [
      "트랜스포머를 설계 완료하였음\n"
     ]
    }
   ],
   "source": [
    "def transformer(vocab_size,\n",
    "                num_layers,\n",
    "                units,\n",
    "                d_model,\n",
    "                num_heads,\n",
    "                dropout,\n",
    "                name=\"transformer\"):\n",
    "    inputs = tf.keras.Input(shape=(None,), name=\"inputs\")\n",
    "    dec_inputs = tf.keras.Input(shape=(None,), name=\"dec_inputs\")\n",
    "    \n",
    "    #패딩을 위한 마스크 \n",
    "    enc_padding_mask = tf.keras.layers.Lambda(\n",
    "      create_padding_mask, output_shape=(1, 1, None),\n",
    "      name='enc_padding_mask')(inputs)\n",
    "    \n",
    "    #디코더에서 미래의 토큰도 마스킹할 수 있도록 함\n",
    "    look_ahead_mask = tf.keras.layers.Lambda(\n",
    "      create_look_ahead_mask,\n",
    "      output_shape=(1, None, None),\n",
    "      name='look_ahead_mask')(dec_inputs)\n",
    "    \n",
    "    #두번째 어텐션 블록에서 인코더의 벡터를 마스킹\n",
    "    #디코더에서 패딩을 위한 마스크\n",
    "    decoder_padding_mask = tf.keras.layers.Lambda(\n",
    "      create_padding_mask, output_shape=(1, 1, None),\n",
    "      name='dec_padding_mask')(inputs)\n",
    "    \n",
    "    #인코더\n",
    "    encoder_outputs = encoder(\n",
    "      vocab_size=vocab_size,\n",
    "      num_layers=num_layers,\n",
    "      units=units,\n",
    "      d_model=d_model,\n",
    "      num_heads=num_heads,\n",
    "      dropout=dropout,\n",
    "  )(inputs=[inputs, enc_padding_mask])\n",
    "    #인코더이므로, 투입되는 inputs이 inputs와 encoder_padding_mask여야 한다.\n",
    "    \n",
    "    #디코더\n",
    "    decoder_outputs = decoder(\n",
    "    vocab_size=vocab_size,\n",
    "    num_layers=num_layers,\n",
    "    units=units,\n",
    "    d_model=d_model,\n",
    "    num_heads=num_heads,\n",
    "    dropout=dropout,)(inputs=[dec_inputs,encoder_outputs,look_ahead_mask,decoder_padding_mask])\n",
    "    #디코더이므로, dec_input과 아까 인코더 층에서 나온 결과, 룩어헤드마스크, 디코더 패딩 마스크를 인풋으로 씀\n",
    "\n",
    "    #완전연결층\n",
    "    #디코더층을 거쳐 나온 아웃풋을 완전연결층의 인풋으로 넣어줌\n",
    "    outputs = tf.keras.layers.Dense(units=vocab_size, name='outputs')(decoder_outputs)\n",
    "    \n",
    "    return tf.keras.Model(inputs=[inputs, dec_inputs], outputs=outputs, name=name)\n",
    "\n",
    "print('트랜스포머를 설계 완료하였음')\n",
    "    "
   ]
  },
  {
   "cell_type": "markdown",
   "metadata": {},
   "source": [
    "## -5. 모델 생성"
   ]
  },
  {
   "cell_type": "code",
   "execution_count": 187,
   "metadata": {},
   "outputs": [
    {
     "name": "stdout",
     "output_type": "stream",
     "text": [
      "Model: \"transformer\"\n",
      "__________________________________________________________________________________________________\n",
      "Layer (type)                    Output Shape         Param #     Connected to                     \n",
      "==================================================================================================\n",
      "inputs (InputLayer)             [(None, None)]       0                                            \n",
      "__________________________________________________________________________________________________\n",
      "dec_inputs (InputLayer)         [(None, None)]       0                                            \n",
      "__________________________________________________________________________________________________\n",
      "enc_padding_mask (Lambda)       (None, 1, 1, None)   0           inputs[0][0]                     \n",
      "__________________________________________________________________________________________________\n",
      "encoder (Model)                 (None, None, 256)    2619136     inputs[0][0]                     \n",
      "                                                                 enc_padding_mask[0][0]           \n",
      "__________________________________________________________________________________________________\n",
      "look_ahead_mask (Lambda)        (None, 1, None, None 0           dec_inputs[0][0]                 \n",
      "__________________________________________________________________________________________________\n",
      "dec_padding_mask (Lambda)       (None, 1, 1, None)   0           inputs[0][0]                     \n",
      "__________________________________________________________________________________________________\n",
      "decoder (Model)                 (None, None, 256)    3673600     dec_inputs[0][0]                 \n",
      "                                                                 encoder[1][0]                    \n",
      "                                                                 look_ahead_mask[0][0]            \n",
      "                                                                 dec_padding_mask[0][0]           \n",
      "__________________________________________________________________________________________________\n",
      "outputs (Dense)                 (None, None, 8172)   2100204     decoder[1][0]                    \n",
      "==================================================================================================\n",
      "Total params: 8,392,940\n",
      "Trainable params: 8,392,940\n",
      "Non-trainable params: 0\n",
      "__________________________________________________________________________________________________\n"
     ]
    }
   ],
   "source": [
    "#기본 세팅은 실습 노드와 동일하게 함.\n",
    "#논문에서의 레이어수(6), 차원수(512)보다 작은 값을 사용함.\n",
    "\n",
    "tf.keras.backend.clear_session()\n",
    "\n",
    "NUM_LAYERS = 2\n",
    "D_MODEL = 256\n",
    "NUM_HEADS = 8\n",
    "UNITS = 512\n",
    "DROPOUT = 0.1\n",
    "\n",
    "model_trans = transformer(\n",
    "    vocab_size=VOCAB_SIZE,\n",
    "    num_layers=NUM_LAYERS,\n",
    "    units=UNITS,\n",
    "    d_model=D_MODEL,\n",
    "    num_heads=NUM_HEADS,\n",
    "    dropout=DROPOUT)\n",
    "\n",
    "\n",
    "model_trans.summary()"
   ]
  },
  {
   "cell_type": "markdown",
   "metadata": {},
   "source": [
    "## -6. 손실함수 설정"
   ]
  },
  {
   "cell_type": "code",
   "execution_count": 111,
   "metadata": {},
   "outputs": [
    {
     "name": "stdout",
     "output_type": "stream",
     "text": [
      "로스펑션 세팅 완료\n"
     ]
    }
   ],
   "source": [
    "def loss_function(y_true, y_pred):\n",
    "    y_true = tf.reshape(y_true, shape=(-1, MAX_LENGTH-1))\n",
    "    \n",
    "    loss = tf.keras.losses.SparseCategoricalCrossentropy(from_logits=True, reduction='none')(y_true, y_pred)\n",
    "    \n",
    "    mask = tf.cast(tf.not_equal(y_true, 0), tf.float32)\n",
    "    loss = tf.multiply(loss, mask)\n",
    "    \n",
    "    return tf.reduce_mean(loss)\n",
    "\n",
    "print('로스펑션 세팅 완료')"
   ]
  },
  {
   "cell_type": "markdown",
   "metadata": {},
   "source": [
    "## -7. 학습률 스케줄링"
   ]
  },
  {
   "cell_type": "code",
   "execution_count": 113,
   "metadata": {},
   "outputs": [
    {
     "name": "stdout",
     "output_type": "stream",
     "text": [
      "학습률 스케줄링 함수 세팅\n"
     ]
    }
   ],
   "source": [
    "class CustomSchedule(tf.keras.optimizers.schedules.LearningRateSchedule):\n",
    "    def __init__(self, d_model, warmup_steps=4000):\n",
    "        super(CustomSchedule, self).__init__()\n",
    "        self.d_model = d_model\n",
    "        self.d_model = tf.cast(self.d_model, tf.float32)\n",
    "        self.warmup_steps = warmup_steps\n",
    "        \n",
    "    def __call__(self, step):\n",
    "        arg1 = tf.math.rsqrt(step)\n",
    "        arg2 = step * (self.warmup_steps**-1.5)\n",
    "        \n",
    "        return tf.math.rsqrt(self.d_model) * tf.math.minimum(arg1, arg2)\n",
    "\n",
    "print('학습률 스케줄링 함수 세팅')"
   ]
  },
  {
   "cell_type": "markdown",
   "metadata": {},
   "source": [
    "> - 이 학습률 스케줄링을 따르는 경우 학습률이 작은 쪽으로 넘어감을 확인할 수 있다."
   ]
  },
  {
   "cell_type": "code",
   "execution_count": 114,
   "metadata": {},
   "outputs": [
    {
     "data": {
      "text/plain": [
       "Text(0.5, 0, 'Train Step')"
      ]
     },
     "execution_count": 114,
     "metadata": {},
     "output_type": "execute_result"
    },
    {
     "data": {
      "image/png": "[encoded data removed]",
      "text/plain": [
       "<Figure size 432x288 with 1 Axes>"
      ]
     },
     "metadata": {
      "needs_background": "light"
     },
     "output_type": "display_data"
    }
   ],
   "source": [
    "sample_learning_rate = CustomSchedule(d_model=128)\n",
    "\n",
    "plt.plot(sample_learning_rate(tf.range(200000, dtype=tf.float32)))\n",
    "plt.ylabel(\"Learning Rate\")\n",
    "plt.xlabel(\"Train Step\")"
   ]
  },
  {
   "cell_type": "markdown",
   "metadata": {},
   "source": [
    "## -8. 모델 컴파일"
   ]
  },
  {
   "cell_type": "code",
   "execution_count": 189,
   "metadata": {},
   "outputs": [
    {
     "name": "stdout",
     "output_type": "stream",
     "text": [
      "모델 컴파일 완료\n"
     ]
    }
   ],
   "source": [
    "learning_rate = CustomSchedule(D_MODEL)\n",
    "\n",
    "optimizer = tf.keras.optimizers.Adam(learning_rate, beta_1=0.9, beta_2=0.98, epsilon=1e-9)\n",
    "\n",
    "def accuracy(y_true, y_pred):\n",
    "    y_true = tf.reshape(y_true, shape=(-1, MAX_LENGTH-1))\n",
    "    return tf.keras.metrics.sparse_categorical_accuracy(y_true, y_pred)\n",
    "\n",
    "\n",
    "model.compile(optimizer=optimizer, loss=loss_function, metrics=[accuracy])\n",
    "\n",
    "print('모델 컴파일 완료')"
   ]
  },
  {
   "cell_type": "markdown",
   "metadata": {},
   "source": [
    "## -9. 모델 학습하기"
   ]
  },
  {
   "cell_type": "code",
   "execution_count": 240,
   "metadata": {},
   "outputs": [
    {
     "name": "stdout",
     "output_type": "stream",
     "text": [
      "Epoch 1/20\n",
      "181/181 [==============================] - 10s 55ms/step - loss: 1.6924e-04 - accuracy: 0.4760\n",
      "Epoch 2/20\n",
      "181/181 [==============================] - 10s 58ms/step - loss: 4.2103e-04 - accuracy: 0.4760\n",
      "Epoch 3/20\n",
      "181/181 [==============================] - 10s 56ms/step - loss: 5.2809e-04 - accuracy: 0.4760\n",
      "Epoch 4/20\n",
      "181/181 [==============================] - 10s 54ms/step - loss: 1.4191e-04 - accuracy: 0.4760\n",
      "Epoch 5/20\n",
      "181/181 [==============================] - 10s 55ms/step - loss: 2.4940e-04 - accuracy: 0.4760\n",
      "Epoch 6/20\n",
      "181/181 [==============================] - 10s 54ms/step - loss: 1.2105e-04 - accuracy: 0.4760\n",
      "Epoch 7/20\n",
      "181/181 [==============================] - 10s 56ms/step - loss: 7.9400e-05 - accuracy: 0.4760\n",
      "Epoch 8/20\n",
      "181/181 [==============================] - 10s 55ms/step - loss: 2.4109e-05 - accuracy: 0.4760\n",
      "Epoch 9/20\n",
      "181/181 [==============================] - 10s 54ms/step - loss: 4.7761e-05 - accuracy: 0.4760\n",
      "Epoch 10/20\n",
      "181/181 [==============================] - 10s 55ms/step - loss: 1.5068e-04 - accuracy: 0.4760\n",
      "Epoch 11/20\n",
      "181/181 [==============================] - 10s 54ms/step - loss: 1.4488e-04 - accuracy: 0.4760\n",
      "Epoch 12/20\n",
      "181/181 [==============================] - 10s 55ms/step - loss: 3.4643e-05 - accuracy: 0.4760\n",
      "Epoch 13/20\n",
      "181/181 [==============================] - 10s 54ms/step - loss: 2.9795e-04 - accuracy: 0.4760\n",
      "Epoch 14/20\n",
      "181/181 [==============================] - 10s 54ms/step - loss: 7.1424e-05 - accuracy: 0.4760\n",
      "Epoch 15/20\n",
      "181/181 [==============================] - 10s 55ms/step - loss: 2.0043e-06 - accuracy: 0.4760\n",
      "Epoch 16/20\n",
      "181/181 [==============================] - 10s 56ms/step - loss: 4.7395e-07 - accuracy: 0.4760\n",
      "Epoch 17/20\n",
      "181/181 [==============================] - 10s 55ms/step - loss: 6.7365e-07 - accuracy: 0.4760\n",
      "Epoch 18/20\n",
      "181/181 [==============================] - 10s 55ms/step - loss: 5.0615e-05 - accuracy: 0.4760\n",
      "Epoch 19/20\n",
      "181/181 [==============================] - 10s 56ms/step - loss: 9.6220e-07 - accuracy: 0.4760\n",
      "Epoch 20/20\n",
      "181/181 [==============================] - 10s 57ms/step - loss: 2.8477e-07 - accuracy: 0.4760\n"
     ]
    },
    {
     "data": {
      "text/plain": [
       "<tensorflow.python.keras.callbacks.History at 0x7f18e00b0d90>"
      ]
     },
     "execution_count": 240,
     "metadata": {},
     "output_type": "execute_result"
    }
   ],
   "source": [
    "#20회 학습을 수행한다.\n",
    "EPOCHS = 20\n",
    "model.fit(dataset, epochs=EPOCHS, verbose=1)"
   ]
  },
  {
   "cell_type": "markdown",
   "metadata": {},
   "source": [
    "## 4. 모델 평가하기          \n",
    "\n",
    "### -1. 챗봇 테스트를 위한 함수 세팅       \n",
    "\n",
    "__챗봇을 테스트할 때도 다음과 같은 과정을 거친다.__     \n",
    "\n",
    "1. 새로운 입력 문장에 대해 동일한 전처리를 거친다.     ,  \n",
    "2. 입력 문장을 토큰화하고, START와 END를 적용한다.       \n",
    "3. 패딩마스킹과 룩어헤드 마스킹을 적용한다.     \n",
    "4. 디코더는 다음 단어를 예측한다.      \n",
    "5. 예측된 단어는 다시 1~4의 과정을 반복한다.      \n",
    "6. END가 예측되면 예측을 멈춘다."
   ]
  },
  {
   "cell_type": "code",
   "execution_count": 213,
   "metadata": {},
   "outputs": [
    {
     "name": "stdout",
     "output_type": "stream",
     "text": [
      "슝=3\n"
     ]
    }
   ],
   "source": [
    "def decoder_inference(sentence):\n",
    "\n",
    "    #sentence = preprocess_sentence(sentence)\n",
    "\n",
    "  # 입력된 문장을 정수 인코딩 후, 시작 토큰과 종료 토큰을 앞뒤로 추가.\n",
    "  # ex) Where have you been? → [[8331   86   30    5 1059    7 8332]]\n",
    "\n",
    "    sentence = tf.expand_dims(\n",
    "      START_TOKEN + tokenizer.encode(sentence) + END_TOKEN, axis=0)\n",
    "\n",
    "  # 디코더의 현재까지의 예측한 출력 시퀀스가 지속적으로 저장되는 변수.\n",
    "  # 처음에는 예측한 내용이 없음으로 시작 토큰만 별도 저장. ex) 8331\n",
    "\n",
    "    output_sequence = tf.expand_dims(START_TOKEN, 0)\n",
    "\n",
    "  # 디코더의 인퍼런스 단계\n",
    "  # 디코더는 최대 MAX_LENGTH의 길이만큼 다음 단어 예측을 반복합니다.\n",
    "    for i in range(MAX_LENGTH):\n",
    "        predictions = model(inputs=[sentence, output_sequence], training=False)\n",
    "        predictions = predictions[:, -1:, :]\n",
    "        predicted_id = tf.cast(tf.argmax(predictions, axis=-1), tf.int32)\n",
    "\n",
    "    # 만약 현재 예측한 단어가 종료 토큰이라면 for문을 종료\n",
    "        if tf.equal(predicted_id, END_TOKEN[0]):\n",
    "            break\n",
    "\n",
    "    # 예측한 단어들은 지속적으로 output_sequence에 추가됩니다.\n",
    "    # 이 output_sequence는 다시 디코더의 입력이 됩니다.\n",
    "    output_sequence = tf.concat([output_sequence, predicted_id], axis=-1)\n",
    "\n",
    "\n",
    "    return tf.squeeze(output_sequence, axis=0)\n",
    "print(\"슝=3\")"
   ]
  },
  {
   "cell_type": "code",
   "execution_count": 219,
   "metadata": {},
   "outputs": [
    {
     "name": "stdout",
     "output_type": "stream",
     "text": [
      "슝=3\n"
     ]
    }
   ],
   "source": [
    "def sentence_generation(sentence):\n",
    "  # 입력 문장에 대해서 디코더를 동작 시켜 예측된 정수 시퀀스를 리턴받습니다.\n",
    "    prediction = decoder_inference(sentence)\n",
    "\n",
    "  # 정수 시퀀스를 다시 텍스트 시퀀스로 변환합니다.\n",
    "    predicted_sentence = tokenizer.decode(\n",
    "      [i for i in prediction if i < tokenizer.vocab_size])\n",
    "    \n",
    "    print('입력 : {}'.format(sentence))\n",
    "    print('출력 : {}'.format(predicted_sentence))\n",
    "\n",
    "    return predicted_sentence\n",
    "\n",
    "print(\"슝=3\")"
   ]
  },
  {
   "cell_type": "code",
   "execution_count": 243,
   "metadata": {},
   "outputs": [
    {
     "name": "stdout",
     "output_type": "stream",
     "text": [
      "입력 : 너무졸려\n",
      "출력 : 고 \n"
     ]
    },
    {
     "data": {
      "text/plain": [
       "'고 '"
      ]
     },
     "execution_count": 243,
     "metadata": {},
     "output_type": "execute_result"
    }
   ],
   "source": [
    "sentence_generation('너무졸려')"
   ]
  }
 ],
 "metadata": {
  "kernelspec": {
   "display_name": "aiffel",
   "language": "python",
   "name": "aiffel"
  },
  "language_info": {
   "codemirror_mode": {
    "name": "ipython",
    "version": 3
   },
   "file_extension": ".py",
   "mimetype": "text/x-python",
   "name": "python",
   "nbconvert_exporter": "python",
   "pygments_lexer": "ipython3",
   "version": "3.7.9"
  },
  "widgets": {
   "application/vnd.jupyter.widget-state+json": {
    "state": {},
    "version_major": 2,
    "version_minor": 0
   }
  }
 },
 "nbformat": 4,
 "nbformat_minor": 4
}
