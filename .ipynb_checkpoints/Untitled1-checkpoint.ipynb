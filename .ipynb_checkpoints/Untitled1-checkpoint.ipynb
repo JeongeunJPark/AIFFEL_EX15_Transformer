{
 "cells": [
  {
   "cell_type": "markdown",
   "metadata": {},
   "source": [
    "### 1. 트랜스포머의 입력 이해하기"
   ]
  },
  {
   "cell_type": "code",
   "execution_count": 1,
   "metadata": {},
   "outputs": [
    {
     "name": "stdout",
     "output_type": "stream",
     "text": [
      "필요한 라이브러리 임포트 완료\n"
     ]
    }
   ],
   "source": [
    "#필요한 라이브러리 임포트하기\n",
    "import tensorflow as tf     \n",
    "import tensorflow_datasets as tfds\n",
    "\n",
    "import os\n",
    "import re\n",
    "\n",
    "import numpy as np\n",
    "import matplotlib.pyplot as plt\n",
    "\n",
    "print('필요한 라이브러리 임포트 완료')"
   ]
  },
  {
   "cell_type": "code",
   "execution_count": 7,
   "metadata": {},
   "outputs": [
    {
     "name": "stdout",
     "output_type": "stream",
     "text": [
      "전처리 함수 세팅 완료\n"
     ]
    }
   ],
   "source": [
    "# 포지셔널 인코딩 \n",
    "class PositionalEncoding(tf.keras.layers.Layer):\n",
    "    #이니셜 세팅\n",
    "    def __init__(self, position, d_model):\n",
    "        super(PositionalEncoding, self).__init__()\n",
    "        self.pos_encoding = self.positional_encoding(position, d_model)\n",
    "    \n",
    "    #앵글 얻기 \n",
    "    def get_angles(self, position, i, d_model):\n",
    "        angles = 1/tf.pow(10000, (2*(i//2)) / tf.cast(d_model, tf.float32))\n",
    "        \n",
    "        #포지션에 따라 앵글을 얻을 수 있도록 return\n",
    "        return position * angles\n",
    "    \n",
    "    def positional_encoding(self, position, d_model):\n",
    "        angle_rads = self.get_angles(\n",
    "        position=tf.range(position, dtype=tf.float32)[:, tf.newaxis],\n",
    "        i=tf.range(d_model, dtype=tf.float32)[tf.newaxis, :],\n",
    "        d_model=d_model)\n",
    "        \n",
    "        #배열 짝수 인덱스에는 sin 함수 적용\n",
    "        sines = tf.math.sin(angle_rads[:, 0::2])\n",
    "        \n",
    "        #배열 홀수 인덱스에는 cos 함수 적용\n",
    "        cosines = tf.math.cos(angle_rads[:, 1::2])\n",
    "        \n",
    "        pos_encoding = tf.concat([sines, cosines], axis=-1)\n",
    "        pos_encoding = pos_encoding[tf.newaxis, ...]\n",
    "        return tf.cast(pos_encoding, tf.float32)\n",
    "    \n",
    "    def call(self, inputs):\n",
    "        return inputs + self.pos_encoding[:, :tf.shape(inputs)[1], :]\n",
    "    \n",
    "print('전처리 함수 세팅 완료')"
   ]
  },
  {
   "cell_type": "code",
   "execution_count": 8,
   "metadata": {},
   "outputs": [
    {
     "data": {
      "image/png": "[encoded data removed]",
      "text/plain": [
       "<Figure size 432x288 with 2 Axes>"
      ]
     },
     "metadata": {
      "needs_background": "light"
     },
     "output_type": "display_data"
    }
   ],
   "source": [
    "sample_posencoding = PositionalEncoding(50,512)\n",
    "\n",
    "plt.pcolormesh(sample_posencoding.pos_encoding.numpy()[0], cmap = 'rainbow')\n",
    "\n",
    "plt.xlabel('Depth')\n",
    "plt.xlim((0,512))\n",
    "\n",
    "plt.ylabel('Position')\n",
    "plt.colorbar()\n",
    "plt.show()"
   ]
  },
  {
   "cell_type": "code",
   "execution_count": 9,
   "metadata": {},
   "outputs": [
    {
     "name": "stdout",
     "output_type": "stream",
     "text": [
      "스케일드 닷 프로덕션 세팅\n"
     ]
    }
   ],
   "source": [
    "## 스케일드 닷 프로덕트 어텐션\n",
    "def scaled_dot_product_attention(query, key, value, mask):\n",
    "    \n",
    "    #어텐션 가중치를 계산\n",
    "    matmul_qk = tf.matmul(query, key, trasepose_b=True)\n",
    "    \n",
    "    #scale matmul_qk\n",
    "    depth = tf.cast(tf.shape(key)[-1], tf.float32)\n",
    "    logits = matmul_qk / tf.math.sqrt(depth)\n",
    "    \n",
    "    #add the mask to zero out padding tokens\n",
    "    if mask is not None:\n",
    "        logits += (mask * -1e9)\n",
    "        \n",
    "    #소프트맥스 \n",
    "    attention_weights = tf.nn.softmax(logits, axis=-1)\n",
    "    \n",
    "    output = tf.matmul(attention_weights, value)\n",
    "    \n",
    "    return output\n",
    "\n",
    "print('스케일드 닷 프로덕션 세팅')"
   ]
  },
  {
   "cell_type": "markdown",
   "metadata": {},
   "source": [
    "- 입력된 문장 행렬을 num_heads의 수만큼 쪼개서 어텐션을 수행    \n",
    "- 이 num_heads로 쪼개진 어텐션을 다시 하나로 concatenate함           \n",
    "\n",
    "\n",
    "- __멀티 헤드 어텐션 : 어텐션을 병렬로 수행하는 것__   "
   ]
  },
  {
   "cell_type": "code",
   "execution_count": 11,
   "metadata": {},
   "outputs": [
    {
     "name": "stdout",
     "output_type": "stream",
     "text": [
      "멀티 헤드 어텐션 세팅 완료\n"
     ]
    }
   ],
   "source": [
    "class MultiHeadAttention(tf.keras.layers.Layer):\n",
    "    \n",
    "    def __init__(self, d_model, num_heads, name=\"multi_head_attention\"):\n",
    "        \n",
    "        super(MultiHeadAttention, self).__init__(name=name)\n",
    "        self.num_heads = num_heads\n",
    "        self.d_model = d_model\n",
    "        \n",
    "        assert (d_model % self.num_heads == 0)\n",
    "        \n",
    "        #d_model을 num_heads의 길이로 나누어 줌(병렬 연산을 위한 길이 세팅)\n",
    "        self.depth = d_model // self.num_heads\n",
    "        self.query_dense = tf.keras.layers.Dense(units=d_model)\n",
    "        self.key_dense = tf.keras.layers.Dense(units=d_model)\n",
    "        self.value_dense = tf.keras.layers.Dense(units=d_model)\n",
    "        \n",
    "        self.dense = tf.keras.layers.Dense(units=d_model)\n",
    "        \n",
    "    def split_heads(self, inputs, batch_size):\n",
    "        #인풋 사이즈 정리\n",
    "        inputs = tf.reshape(inputs, shape=(batch_size, -1, self.num_heads, self.depth))\n",
    "        return tf.transpose(inputs, perm=[0,2,1,3])\n",
    "    \n",
    "    def call(self, inputs):\n",
    "        #매칭\n",
    "        query = inputs['query']\n",
    "        key = inputs['key']\n",
    "        value = inputs['value']\n",
    "        mask = inputs['mask']\n",
    "        batch_size = tf.shape(query)[0]\n",
    "        \n",
    "        #linear layers\n",
    "        query = self.query_dense(query)\n",
    "        key = self.key_dense(key)\n",
    "        value = self.value_dense(value)\n",
    "        \n",
    "        #병렬 연산을 위한 헤드\n",
    "        query = self.split_heads(query, batch_size)\n",
    "        key = self.split_heads(key, batch_size)\n",
    "        value = self.split_heads(value, batch_size)\n",
    "        \n",
    "        scaled_attention = scaled_dot_product_attention(query, key, value, mask)\n",
    "        scaled_attentiono = tf.transpose(scaled_attention, perm=[0,2,1,3])\n",
    "        \n",
    "        #어텐션 후의 결과를 다시 합쳐서 reshape\n",
    "        concat_attention = tf.reshape(scaled_attention, (batch_size, -1, self.d_model))\n",
    "        \n",
    "        #마지막 리니어 레이어\n",
    "        outputs = self.dense(concat_attention)\n",
    "        \n",
    "        return outputs\n",
    "    \n",
    "    print('멀티 헤드 어텐션 세팅 완료')\n",
    "        "
   ]
  },
  {
   "cell_type": "markdown",
   "metadata": {},
   "source": [
    "- 마스킹 : 특정 값을 가려서 실제 연산에 방해가 되지 않도록 하는 기법       \n",
    "\n",
    "1. 패딩 마스킹 : 숫자 0인 위치를 체크하여, 어텐션 연산에서 제외시키는 것     \n",
    "- 패딩 : 문장의 길이가 서로 다를 때, 모든 문장의 길이를 동일하게 하기 위해 숫자 0을 채워서 문장의 길이를 맞춰줌   "
   ]
  },
  {
   "cell_type": "code",
   "execution_count": 12,
   "metadata": {},
   "outputs": [
    {
     "name": "stdout",
     "output_type": "stream",
     "text": [
      "패딩 마스크 적용\n"
     ]
    }
   ],
   "source": [
    "def create_padding_mask(x):\n",
    "    mask = tf.cast(tf.math.equal(x, 0), tf.float32)\n",
    "    \n",
    "    # batch_size, 1, 1, sequence length\n",
    "    return mask[:, tf.newaxis, tf.newaxis, :]\n",
    "\n",
    "print('패딩 마스크 적용')"
   ]
  },
  {
   "cell_type": "code",
   "execution_count": 13,
   "metadata": {},
   "outputs": [
    {
     "name": "stdout",
     "output_type": "stream",
     "text": [
      "tf.Tensor(\n",
      "[[[[0. 0. 1. 0. 1.]]]\n",
      "\n",
      "\n",
      " [[[1. 1. 1. 0. 0.]]]], shape=(2, 1, 1, 5), dtype=float32)\n"
     ]
    }
   ],
   "source": [
    "# 패딩 마스크 테스트\n",
    "# 숫자 0인 위치에서는 1이, 0이 아닌 위치에서는 0이 나옴\n",
    "print(create_padding_mask(tf.constant([[1,2,0,3,0],[0,0,0,4,5]])))"
   ]
  },
  {
   "cell_type": "markdown",
   "metadata": {},
   "source": [
    "- 2. 룩어헤드 마스킹(Look-ahead masking, 다음 단어 가리기)          \n",
    "\n",
    "- 트랜스포머는 '단어가 한꺼번에 들어가므로' 순서에 대한 단서가 필요함      "
   ]
  },
  {
   "cell_type": "code",
   "execution_count": 14,
   "metadata": {},
   "outputs": [
    {
     "name": "stdout",
     "output_type": "stream",
     "text": [
      "룩어헤드마스크 세팅\n"
     ]
    }
   ],
   "source": [
    "def create_look_ahead_mask(x):\n",
    "    seq_len = tf.shape(x)[1]\n",
    "    look_ahead_mask = 1 - tf.linalg.band_part(tf.ones((seq_len, seq_len)), -1, 0)\n",
    "    \n",
    "    # 0 패딩 마스크도 함께 호출하여 가려야 함.\n",
    "    padding_mask = create_padding_mask(x)\n",
    "    \n",
    "    return tf.maximum(look_ahead_mask, padding_mask)\n",
    "\n",
    "print('룩어헤드마스크 세팅')\n",
    "    "
   ]
  },
  {
   "cell_type": "code",
   "execution_count": 15,
   "metadata": {},
   "outputs": [
    {
     "name": "stdout",
     "output_type": "stream",
     "text": [
      "tf.Tensor(\n",
      "[[[[0. 1. 1. 1. 1.]\n",
      "   [0. 0. 1. 1. 1.]\n",
      "   [0. 0. 0. 1. 1.]\n",
      "   [0. 0. 0. 0. 1.]\n",
      "   [0. 0. 0. 0. 0.]]]], shape=(1, 1, 5, 5), dtype=float32)\n"
     ]
    }
   ],
   "source": [
    "print(create_look_ahead_mask(tf.constant([[1,2,3,4,5]])))"
   ]
  },
  {
   "cell_type": "code",
   "execution_count": 17,
   "metadata": {},
   "outputs": [
    {
     "name": "stdout",
     "output_type": "stream",
     "text": [
      "tf.Tensor(\n",
      "[[[[1. 1. 1. 1. 1.]\n",
      "   [1. 0. 1. 1. 1.]\n",
      "   [1. 0. 0. 1. 1.]\n",
      "   [1. 0. 0. 0. 1.]\n",
      "   [1. 0. 0. 0. 0.]]]], shape=(1, 1, 5, 5), dtype=float32)\n"
     ]
    }
   ],
   "source": [
    "print(create_look_ahead_mask(tf.constant([[0,5,1,5,5]])))"
   ]
  },
  {
   "cell_type": "markdown",
   "metadata": {},
   "source": [
    "### 인코더 층 만들기    \n",
    "\n",
    "- 2개의 서브 층\n",
    "- 셀프어텐션 == 멀티 헤드 어텐션     \n",
    "- 피드 포워드 신경망"
   ]
  },
  {
   "cell_type": "code",
   "execution_count": 18,
   "metadata": {},
   "outputs": [
    {
     "name": "stdout",
     "output_type": "stream",
     "text": [
      "엔코더 레이어 세팅 완료\n"
     ]
    }
   ],
   "source": [
    "def encoder_layer(units, d_model, num_heads, dropout, name=\"encoder_layer\"):\n",
    "    \n",
    "    #인풋, 패딩 마스크\n",
    "    inputs = tf.keras.Input(shape=(None, d_model), name = \"inputs\")\n",
    "    padding_mask = tf.keras.Input(shape=(1,1,None), name = \"padding_mask\")\n",
    "    \n",
    "    #첫번째 서브 레이어\n",
    "    attention = MultiHeadAttention(d_model, num_heads, name=\"attention\")({\n",
    "        'query' : inputs,\n",
    "        'key': inputs,\n",
    "        'value' : inputs,\n",
    "        'mask' : padding_mask\n",
    "    })\n",
    "    \n",
    "    #멀티헤드 어텐션 이후 드롭아웃, 노말라이제이션을 거침\n",
    "    attention = tf.keras.layers.Dropout(rate=dropout)(attention)\n",
    "    attention = tf.keras.layers.LayerNormalization(epsilon=1e-6)(inputs+attention)\n",
    "    \n",
    "    #두번째 서브 레이어\n",
    "    outputs = tf.keras.layers.Dense(units=units, activation='relu')(attention)\n",
    "    outputs = tf.keras.layers.Dense(units=d_model)(outputs)\n",
    "    \n",
    "    #결과를 드롭아웃, 노말라이제이션\n",
    "    outputs = tf.keras.layers.Dropout(rate=dropout)(outputs)\n",
    "    outputs = tf.keras.layers.LayerNormalization(epsilon=1e-6)(attention+outputs)\n",
    "    \n",
    "    return tf.keras.Model(inputs=[inputs, padding_mask], outputs=outputs, name=name)\n",
    "\n",
    "print('엔코더 레이어 세팅 완료')"
   ]
  },
  {
   "cell_type": "markdown",
   "metadata": {},
   "source": [
    "- 이렇게 구현된 인코더 층을 \n",
    "- 임베딩 층 + 포지셔널 인코딩 층 + 인코더 층(n개)을 쌓아 인코더가 완성됨.\n",
    "\n",
    "- __트랜스포머는 하이퍼파라미터인 num_layers 개수의 인코더 층을 쌓는다__   \n",
    "- 논문에서는 6개를 사용하였지만, 여기서는 적은 개수를 투입"
   ]
  },
  {
   "cell_type": "code",
   "execution_count": 19,
   "metadata": {},
   "outputs": [
    {
     "name": "stdout",
     "output_type": "stream",
     "text": [
      "인코더 세팅 완료\n"
     ]
    }
   ],
   "source": [
    "def encoder(voca_size, num_layers, units, d_model, num_heads, dropout, name=\"encoder\"):\n",
    "    inputs = tf.keras.Input(shape=(None, ), name=\"inputs\")\n",
    "    \n",
    "    #패딩마스크\n",
    "    padding_mask = tf.keras.Input(shape=(1,1,None), name=\"padding_mask\")\n",
    "    \n",
    "    #임베딩레이어\n",
    "    embeddings = tf.keras.layers.Embedding(voca_size, d_model)(inputs)\n",
    "    embeddings *= tf.math.sqrt(tf.cast(d_model, tf.float32))\n",
    "    \n",
    "    #포지셔널 인코딩\n",
    "    embeddings = PositionalEncoding(voca_size, d_model)(embeddings)\n",
    "    \n",
    "    outputs = tf.keras.layers.Dropout(rate=dropout)(embeddings)\n",
    "    \n",
    "    #num_layers만큼 쌓아올린 인코더 층\n",
    "    for i in range(num_layers):\n",
    "        outputs = encoder_layer(\n",
    "        units=units,\n",
    "        d_model=d_model,\n",
    "        num_heads=num_heads,\n",
    "        dropout=dropout,\n",
    "        name=\"encoder_layer_{}\".format(i),\n",
    "        )([outputs, padding_mask])\n",
    "        \n",
    "        return tf.keras.Model(inputs=[inputs, padding_mask], outputs=outputs, name=name)\n",
    "    \n",
    "print('인코더 세팅 완료')"
   ]
  },
  {
   "cell_type": "markdown",
   "metadata": {},
   "source": [
    "- 디코더는 세 개의 서브 층\n",
    "- 1. 셀프 어텐션    \n",
    "- 2. 인코더-디코더 어텐션 : query = 디코더 벡터  를 기준으로, key, value = 인코더 벡터 를 찾음     \n",
    "- 3. 피드 포워드 신경망\n",
    "\n",
    "- 1과 2의 어텐션 모두 스케일드 닷 프로덕트 어텐션을 멀티 헤드 어텐션으로 병렬적으로 수행"
   ]
  },
  {
   "cell_type": "code",
   "execution_count": 20,
   "metadata": {},
   "outputs": [
    {
     "name": "stdout",
     "output_type": "stream",
     "text": [
      "디코더 층 세팅 완료\n"
     ]
    }
   ],
   "source": [
    "def decoder_layer(units, d_model, num_heads, dropout, name=\"decoder_layer\"):\n",
    "    #인풋 연결\n",
    "    inputs = tf.keras.Input(shape=(None, d_model), name=\"inputs\")\n",
    "    encoder_outputs = tf.keras.Input(shape=(None, d_model), name=\"encoder_outputs\")\n",
    "    \n",
    "    look_ahead_mask = tf.keras.Input(shape=(1,None,None), name=\"look_ahead_mask\")\n",
    "    padding_mask = tf.keras.Input(shape=(1,1,None), name=\"padding_mask\")\n",
    "    \n",
    "    #첫번째 서브 레이어:멀티 헤드 어텐션 수행\n",
    "    attention1 = MultiHeadAttention(\n",
    "    d_model, num_heads, name=\"attention_1\")(inputs={\n",
    "        'query':inputs,\n",
    "        'key':inputs,\n",
    "        'value':inputs,\n",
    "        'mask':look_ahead_mask\n",
    "    })\n",
    "    \n",
    "    #결과를 노말라이제이션\n",
    "    attention1 = tf.keras.layers.LayerNormalization(epsilon=1e-6)(attention1+inputs)\n",
    "    \n",
    "    #두 번째 서브레이어 : 마스크드 멀티 헤드 어텐션 (인코더-디코더)\n",
    "    attention2 = MultiHeadAttention(\n",
    "    d_moel, num_heads, name=\"attention_2\")(inputs={\n",
    "        'query':attention1,\n",
    "        'key':encoder_outputs,\n",
    "        'value':encoder_outputs,\n",
    "        'mask':padding_mask\n",
    "    })\n",
    "    \n",
    "    #결과를 드롭아웃, 노말라이제이션\n",
    "    attention2 = tf.keras.layers.Dropout(rate=dropout)(attention2)\n",
    "    attention2 = tf.keras.layers.LayerNormalization(epsilon=1e-6)(attention2+attention1)\n",
    "    \n",
    "    #세 번째 서브레이어 : 2개의 완전연결층\n",
    "    outputs = tf.keras.layers.Dense(units=units, activation='relu')(attention2)\n",
    "    outputs = tf.keras.layers.Dense(units=d_model)(outputs)\n",
    "    \n",
    "    #완전연결층 결과도...!\n",
    "    outputs = tf.keras.layers.Dropout(rate=dropout)(outputs)\n",
    "    outputs = tf.keras.layers.LayerNormalization(epsilon=1e-6)(outputs+attention2)\n",
    "    \n",
    "    return tf.keras.Model(inputs=[inputs, encoder_outputs, look_ahead_mask, padding_mask],\n",
    "                         outputs=outputs, name=name)\n",
    "\n",
    "print('디코더 층 세팅 완료')\n",
    "    \n",
    "    "
   ]
  },
  {
   "cell_type": "markdown",
   "metadata": {},
   "source": [
    "### 디코더 만들기     \n",
    "\n",
    "- 임베딩 층 \n",
    "- 포지셔널 인코딩 층   \n",
    "- num_layers 개수 만큼의 디코더 층   \n",
    "\n",
    "- 논문에서는 6개, 실습에서는 그것보다 적은 수의 디코더 층"
   ]
  },
  {
   "cell_type": "code",
   "execution_count": 23,
   "metadata": {},
   "outputs": [
    {
     "name": "stdout",
     "output_type": "stream",
     "text": [
      "디코더 세팅 완료\n"
     ]
    }
   ],
   "source": [
    " def decoder(voca_size, num_layers, units, d_model, num_heads, dropout, name='decoder'):\n",
    "        inputs = tf.keras.Input(shape=(None,), name='inputs')\n",
    "        encoder_outputs = tf.keras.Input(shape=(None, d_model), name='encoder_outputs')\n",
    "        look_ahead_mask = tf.keras.Input(shape=(1,None,None), name='look_ahead_mask')\n",
    "        \n",
    "        #패딩마스크\n",
    "        padding_mask = tf.keras.Input(shape=(1,1,None), name='padding_mask')\n",
    "        \n",
    "        #임베딩 레이어\n",
    "        embeddings = tf.keras.layer.Embedding(voca_size, d_model)(inputs)\n",
    "        embeddings *= tf.math.sqrt(tf.cast(d_model, tf.float32))\n",
    "        \n",
    "        #포지셔널 인코딩\n",
    "        embeddings = PositionalEncoding(voca_size, d_model)(embeddings)\n",
    "        \n",
    "        #드롭아웃\n",
    "        outputs = tf.keras.layers.Dropout(rate=dropout)(embeddings)\n",
    "        \n",
    "        for i in range(num_layers):\n",
    "            outputs = decoder_layer(\n",
    "                units=units,\n",
    "                d_model=d_model,\n",
    "                num_heads=num_heads,\n",
    "                dropout=dropout,\n",
    "                name='decoder_layer_{}'.format(i),\n",
    "            )(inputs=[outputs, encoder_outputs, look_ahead_mask, padding_mask])\n",
    "            \n",
    "        return tf.keras.Model(\n",
    "        inputs=[inputs, encoder_outputs, look_ahead_mask, padding_mask],\n",
    "        outputs=outputs,\n",
    "        name=name)\n",
    "    \n",
    "print('디코더 세팅 완료')"
   ]
  },
  {
   "cell_type": "markdown",
   "metadata": {},
   "source": [
    "### 데이터셋 전처리       \n",
    "\n",
    "1. 50,000개의 질문과 답변의 쌍을 추출한다.       \n",
    "2. 문장에서 단어와 구두점 사이에 공백을 추가한다.(전처리의 전처리)   \n",
    "3. 특수문자 제거"
   ]
  },
  {
   "cell_type": "code",
   "execution_count": 65,
   "metadata": {},
   "outputs": [
    {
     "name": "stdout",
     "output_type": "stream",
     "text": [
      "데이터셋 로드\n",
      "/home/ssac23/SUBMIT_MISSION_GIT/ex15_Transformer/cornel_data/corpus/movie_lines.txt\n",
      "/home/ssac23/SUBMIT_MISSION_GIT/ex15_Transformer/cornel_data/corpus/movie_conversations.txt\n"
     ]
    }
   ],
   "source": [
    "path_to_dataset = os.getenv('HOME') +'/SUBMIT_MISSION_GIT/ex15_Transformer/cornel_data/corpus/'\n",
    "\n",
    "path_to_movie_lines = os.path.join(path_to_dataset, 'movie_lines.txt')\n",
    "path_to_movie_conversations = os.path.join(path_to_dataset,'movie_conversations.txt')\n",
    "\n",
    "print('데이터셋 로드')\n",
    "print(path_to_movie_lines)\n",
    "print(path_to_movie_conversations)"
   ]
  },
  {
   "cell_type": "code",
   "execution_count": 25,
   "metadata": {},
   "outputs": [
    {
     "name": "stdout",
     "output_type": "stream",
     "text": [
      "최대 샘플 개수 : 50000\n"
     ]
    }
   ],
   "source": [
    "#사용할 샘플 최대 개수 지정\n",
    "MAX_SAMPLES = 50000\n",
    "print(\"최대 샘플 개수 :\", MAX_SAMPLES)"
   ]
  },
  {
   "cell_type": "code",
   "execution_count": 26,
   "metadata": {},
   "outputs": [
    {
     "name": "stdout",
     "output_type": "stream",
     "text": [
      "전처리 함수 처리\n"
     ]
    }
   ],
   "source": [
    "#전처리 함수\n",
    "#정규표현식으로 구두점을 제거, \n",
    "\n",
    "def preprocessing(sentence):\n",
    "    #소문자로 변환\n",
    "    sentence = sentence.lower().strip()\n",
    "    \n",
    "    #단어와 구두점 사이의 거리를 만들어 전처리하기 쉽도록 전처리(전처리의 전처리)\n",
    "    sentence = re.sub(r\"([?.!,])\", r\" \\1 \", sentence)\n",
    "    sentence = re.sub(r'[\" \"]+', \" \", sentence)\n",
    "    \n",
    "    # (a-z, A-Z, \".\", \"?\", \"!\", \",\")를 제외한 모든 문자를 공백인 ' '로 대체합니다.\n",
    "    sentence = re.sub(r\"[^a-zA-Z?.!,]+\", \" \", sentence)\n",
    "    sentence = sentence.strip()\n",
    "    return sentence\n",
    "  \n",
    "print('전처리 함수 처리')"
   ]
  },
  {
   "cell_type": "code",
   "execution_count": 67,
   "metadata": {},
   "outputs": [
    {
     "name": "stdout",
     "output_type": "stream",
     "text": [
      "슝=3\n",
      "/home/ssac23/SUBMIT_MISSION_GIT/ex15_Transformer/cornel_data/corpus/movie_lines.txt\n"
     ]
    }
   ],
   "source": [
    "# 질문과 답변의 쌍인 데이터셋을 구성하기 위한 데이터 로드 함수\n",
    "def load_conversations():\n",
    "\n",
    "    id2line = {}\n",
    "\n",
    "    with open(path_to_movie_lines, errors='ignore') as file:\n",
    "        lines = file.readlines()\n",
    "\n",
    "    for line in lines:\n",
    "        parts = line.replace('\\n', '').split(' +++$+++ ')\n",
    "        id2line[parts[0]] = parts[4]\n",
    "\n",
    "\n",
    "    inputs, outputs = [], []\n",
    "\n",
    "    with open(path_to_movie_conversations, 'r') as file:\n",
    "        lines = file.readlines()\n",
    "\n",
    "\n",
    "    for line in lines:\n",
    "        parts = line.replace('\\n', '').split(' +++$+++ ')\n",
    "        conversation = [line[1:-1] for line in parts[3][1:-1].split(', ')]\n",
    "\n",
    "    for i in range(len(conversation) - 1):\n",
    "            # 전처리 함수를 질문에 해당되는 inputs와 답변에 해당되는 outputs에 적용.\n",
    "    \n",
    "        inputs.append(preprocessing(id2line[conversation[i]]))\n",
    "        outputs.append(preprocessing(id2line[conversation[i + 1]]))\n",
    "\n",
    "        if len(inputs) >= MAX_SAMPLES:\n",
    "            return inputs, outputs\n",
    "    return inputs, outputs\n",
    "\n",
    "print(\"슝=3\")\n",
    "print(path_to_movie_lines)"
   ]
  },
  {
   "cell_type": "code",
   "execution_count": 68,
   "metadata": {},
   "outputs": [
    {
     "ename": "FileNotFoundError",
     "evalue": "[Errno 2] No such file or directory: '/home/ssac23/.keras/datasets/cornell movie-dialogs corpus/movie_conversation.txt'",
     "output_type": "error",
     "traceback": [
      "\u001b[0;31m---------------------------------------------------------------------------\u001b[0m",
      "\u001b[0;31mFileNotFoundError\u001b[0m                         Traceback (most recent call last)",
      "\u001b[0;32m<ipython-input-68-fd2067b2bfd7>\u001b[0m in \u001b[0;36m<module>\u001b[0;34m\u001b[0m\n\u001b[1;32m      1\u001b[0m \u001b[0;31m#데이터의 수 확인\u001b[0m\u001b[0;34m\u001b[0m\u001b[0;34m\u001b[0m\u001b[0;34m\u001b[0m\u001b[0m\n\u001b[0;32m----> 2\u001b[0;31m \u001b[0mquestion\u001b[0m\u001b[0;34m,\u001b[0m \u001b[0manswer\u001b[0m \u001b[0;34m=\u001b[0m \u001b[0mload_conversation\u001b[0m\u001b[0;34m(\u001b[0m\u001b[0;34m)\u001b[0m\u001b[0;34m\u001b[0m\u001b[0;34m\u001b[0m\u001b[0m\n\u001b[0m\u001b[1;32m      3\u001b[0m \u001b[0;34m\u001b[0m\u001b[0m\n\u001b[1;32m      4\u001b[0m \u001b[0mprint\u001b[0m\u001b[0;34m(\u001b[0m\u001b[0;34m'전체 샘플 수 : '\u001b[0m\u001b[0;34m,\u001b[0m \u001b[0mlen\u001b[0m\u001b[0;34m(\u001b[0m\u001b[0mquestion\u001b[0m\u001b[0;34m)\u001b[0m\u001b[0;34m)\u001b[0m\u001b[0;34m\u001b[0m\u001b[0;34m\u001b[0m\u001b[0m\n\u001b[1;32m      5\u001b[0m \u001b[0mprint\u001b[0m\u001b[0;34m(\u001b[0m\u001b[0;34m'전체 샘플 수 : '\u001b[0m\u001b[0;34m,\u001b[0m \u001b[0mlen\u001b[0m\u001b[0;34m(\u001b[0m\u001b[0manswer\u001b[0m\u001b[0;34m)\u001b[0m\u001b[0;34m)\u001b[0m\u001b[0;34m\u001b[0m\u001b[0;34m\u001b[0m\u001b[0m\n",
      "\u001b[0;32m<ipython-input-28-9f43a8e1d66a>\u001b[0m in \u001b[0;36mload_conversation\u001b[0;34m()\u001b[0m\n\u001b[1;32m     11\u001b[0m \u001b[0;34m\u001b[0m\u001b[0m\n\u001b[1;32m     12\u001b[0m         \u001b[0minputs\u001b[0m\u001b[0;34m,\u001b[0m \u001b[0moutputs\u001b[0m \u001b[0;34m=\u001b[0m \u001b[0;34m[\u001b[0m\u001b[0;34m]\u001b[0m\u001b[0;34m,\u001b[0m \u001b[0;34m[\u001b[0m\u001b[0;34m]\u001b[0m\u001b[0;34m\u001b[0m\u001b[0;34m\u001b[0m\u001b[0m\n\u001b[0;32m---> 13\u001b[0;31m         \u001b[0;32mwith\u001b[0m \u001b[0mopen\u001b[0m\u001b[0;34m(\u001b[0m\u001b[0mpath_to_movie_conversation\u001b[0m\u001b[0;34m,\u001b[0m \u001b[0;34m'r'\u001b[0m\u001b[0;34m)\u001b[0m \u001b[0;32mas\u001b[0m \u001b[0mfile\u001b[0m\u001b[0;34m:\u001b[0m\u001b[0;34m\u001b[0m\u001b[0;34m\u001b[0m\u001b[0m\n\u001b[0m\u001b[1;32m     14\u001b[0m             \u001b[0mlines\u001b[0m \u001b[0;34m=\u001b[0m \u001b[0mfile\u001b[0m\u001b[0;34m.\u001b[0m\u001b[0mreadlines\u001b[0m\u001b[0;34m(\u001b[0m\u001b[0;34m)\u001b[0m\u001b[0;34m\u001b[0m\u001b[0;34m\u001b[0m\u001b[0m\n\u001b[1;32m     15\u001b[0m \u001b[0;34m\u001b[0m\u001b[0m\n",
      "\u001b[0;31mFileNotFoundError\u001b[0m: [Errno 2] No such file or directory: '/home/ssac23/.keras/datasets/cornell movie-dialogs corpus/movie_conversation.txt'"
     ]
    }
   ],
   "source": [
    "#데이터의 수 확인\n",
    "question, answer = load_conversation()\n",
    "\n",
    "print('전체 샘플 수 : ', len(question))\n",
    "print('전체 샘플 수 : ', len(answer))"
   ]
  },
  {
   "cell_type": "code",
   "execution_count": 64,
   "metadata": {},
   "outputs": [
    {
     "ename": "NameError",
     "evalue": "name 'questions' is not defined",
     "output_type": "error",
     "traceback": [
      "\u001b[0;31m---------------------------------------------------------------------------\u001b[0m",
      "\u001b[0;31mNameError\u001b[0m                                 Traceback (most recent call last)",
      "\u001b[0;32m<ipython-input-64-395651d191ea>\u001b[0m in \u001b[0;36m<module>\u001b[0;34m\u001b[0m\n\u001b[0;32m----> 1\u001b[0;31m \u001b[0mprint\u001b[0m\u001b[0;34m(\u001b[0m\u001b[0;34m'전처리 후의 22번째 질문 샘플: {}'\u001b[0m\u001b[0;34m.\u001b[0m\u001b[0mformat\u001b[0m\u001b[0;34m(\u001b[0m\u001b[0mquestions\u001b[0m\u001b[0;34m[\u001b[0m\u001b[0;36m21\u001b[0m\u001b[0;34m]\u001b[0m\u001b[0;34m)\u001b[0m\u001b[0;34m)\u001b[0m\u001b[0;34m\u001b[0m\u001b[0;34m\u001b[0m\u001b[0m\n\u001b[0m\u001b[1;32m      2\u001b[0m \u001b[0mprint\u001b[0m\u001b[0;34m(\u001b[0m\u001b[0;34m'전처리 후의 22번째 답변 샘플: {}'\u001b[0m\u001b[0;34m.\u001b[0m\u001b[0mformat\u001b[0m\u001b[0;34m(\u001b[0m\u001b[0manswers\u001b[0m\u001b[0;34m[\u001b[0m\u001b[0;36m21\u001b[0m\u001b[0;34m]\u001b[0m\u001b[0;34m)\u001b[0m\u001b[0;34m)\u001b[0m\u001b[0;34m\u001b[0m\u001b[0;34m\u001b[0m\u001b[0m\n",
      "\u001b[0;31mNameError\u001b[0m: name 'questions' is not defined"
     ]
    }
   ],
   "source": [
    "print('전처리 후의 22번째 질문 샘플: {}'.format(questions[21]))\n",
    "print('전처리 후의 22번째 답변 샘플: {}'.format(answers[21]))"
   ]
  },
  {
   "cell_type": "markdown",
   "metadata": {},
   "source": [
    "### 단어장 만들기          \n",
    "\n",
    "1. tensorflow datasets subwordsTextEncoder를 토크나이저로 사용한다.\n",
    "2. 단어보다 더 작은 단위인 subword를 기준으로 토크나이징 한 뒤, 각 토큰을 고유한 정수로 인코딩한다.\n",
    "3. 각 문장을 토큰화하고 각 문장의 시작과 끝을 나타내는 start_token, end_token을 추가한다.\n",
    "4. 최대 길이를 넘는 문장들은 필터링한다.\n",
    "5. 최대 길이보다 짧은 문장들은 패딩한다."
   ]
  },
  {
   "cell_type": "code",
   "execution_count": null,
   "metadata": {},
   "outputs": [],
   "source": []
  },
  {
   "cell_type": "code",
   "execution_count": null,
   "metadata": {},
   "outputs": [],
   "source": []
  },
  {
   "cell_type": "code",
   "execution_count": null,
   "metadata": {},
   "outputs": [],
   "source": []
  },
  {
   "cell_type": "code",
   "execution_count": null,
   "metadata": {},
   "outputs": [],
   "source": []
  },
  {
   "cell_type": "code",
   "execution_count": null,
   "metadata": {},
   "outputs": [],
   "source": []
  },
  {
   "cell_type": "code",
   "execution_count": null,
   "metadata": {},
   "outputs": [],
   "source": []
  },
  {
   "cell_type": "code",
   "execution_count": null,
   "metadata": {},
   "outputs": [],
   "source": []
  },
  {
   "cell_type": "code",
   "execution_count": null,
   "metadata": {},
   "outputs": [],
   "source": []
  },
  {
   "cell_type": "code",
   "execution_count": null,
   "metadata": {},
   "outputs": [],
   "source": []
  },
  {
   "cell_type": "code",
   "execution_count": null,
   "metadata": {},
   "outputs": [],
   "source": []
  },
  {
   "cell_type": "code",
   "execution_count": null,
   "metadata": {},
   "outputs": [],
   "source": []
  },
  {
   "cell_type": "code",
   "execution_count": null,
   "metadata": {},
   "outputs": [],
   "source": []
  },
  {
   "cell_type": "code",
   "execution_count": null,
   "metadata": {},
   "outputs": [],
   "source": []
  },
  {
   "cell_type": "code",
   "execution_count": null,
   "metadata": {},
   "outputs": [],
   "source": []
  },
  {
   "cell_type": "code",
   "execution_count": null,
   "metadata": {},
   "outputs": [],
   "source": []
  },
  {
   "cell_type": "code",
   "execution_count": null,
   "metadata": {},
   "outputs": [],
   "source": []
  },
  {
   "cell_type": "code",
   "execution_count": null,
   "metadata": {},
   "outputs": [],
   "source": []
  }
 ],
 "metadata": {
  "kernelspec": {
   "display_name": "aiffel",
   "language": "python",
   "name": "aiffel"
  },
  "language_info": {
   "codemirror_mode": {
    "name": "ipython",
    "version": 3
   },
   "file_extension": ".py",
   "mimetype": "text/x-python",
   "name": "python",
   "nbconvert_exporter": "python",
   "pygments_lexer": "ipython3",
   "version": "3.7.9"
  }
 },
 "nbformat": 4,
 "nbformat_minor": 4
}
